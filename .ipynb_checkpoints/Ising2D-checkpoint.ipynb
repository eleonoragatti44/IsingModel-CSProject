{
 "cells": [
  {
   "cell_type": "code",
   "execution_count": 1,
   "metadata": {},
   "outputs": [],
   "source": [
    "import numpy as np\n",
    "import matplotlib.pyplot as plt"
   ]
  },
  {
   "cell_type": "code",
   "execution_count": 13,
   "metadata": {},
   "outputs": [],
   "source": [
    "import numpy as np\n",
    "import matplotlib.pyplot as plt\n",
    "class lattice2d():\n",
    "  \n",
    "    def __init__(self,n1,n2,T,B=1,J=1):\n",
    "        self.n1 = n1\n",
    "        self.n2 = n2\n",
    "        self.matrix = np.random.choice([-1, 1], size=(self.n1, self.n2))\n",
    "        self.ham = [] \n",
    "        self.mag = []\n",
    "        self.B = B\n",
    "        self.J = J\n",
    "        self.T = T\n",
    "\n",
    "    # Compute the interaction between one spin and first neighbors\n",
    "    def get_onepoint_interaction(self,i,j):\n",
    "        interaction = - self.J * self.matrix[i,j] * (self.matrix[(i+1)%self.n1,j]+self.matrix[i-1,j]+self.matrix[i,(j+1)%self.n2]+self.matrix[i,j-1])\n",
    "        return(interaction)\n",
    "    \n",
    "    \"\"\"\n",
    "    def get_mf_interaction(self,i,j):\n",
    "        self.update_mag()\n",
    "        mf = self.mag[-1]\n",
    "        interaction = - self.J * self.matrix[i,j] * mf * 4/(self.n1*self.n2)\n",
    "        return interaction\n",
    "    \"\"\"\n",
    "\n",
    "    def get_mf_interaction(self,i,j):\n",
    "        self.update_mag()\n",
    "        mf = self.mag[-1] / (self.n1*self.n2)\n",
    "        heff = self.B + mf * self.J * 4\n",
    "        interaction = self.J * mf**2 * 4 * (self.n1*self.n2)/2 - heff * mf * (self.n1*self.n2)\n",
    "        return interaction\n",
    "    \n",
    "    def get_total_interaction(self):\n",
    "        # list of pairs of adjacent sites as four-element tuples:\n",
    "        # (i1, j1, i2, j2) represents two adjacent sites located\n",
    "        # at (i1, j1) and (i2, j2)\n",
    "        horizontal_edges = [\n",
    "            (i, j-1, i, j)\n",
    "            for i in range(self.n1) for j in range(self.n2)\n",
    "        ]\n",
    "        vertical_edges = [\n",
    "            (i-1, j, i, j)\n",
    "            for i in range(self.n1) for j in range(self.n2)\n",
    "        ]\n",
    "        # summing lists in python concatenates them\n",
    "        # [1, 2, 3] + [4, 5] = [1, 2, 3, 4, 5]\n",
    "        edges = horizontal_edges + vertical_edges\n",
    "        E = 0\n",
    "        for i1, j1, i2, j2 in edges:\n",
    "            E -= self.matrix[i1,j1]*self.matrix[i2,j2]\n",
    "        return E                                               \n",
    "\n",
    "\n",
    "    def update_ham(self):\n",
    "        # Compute the energy of interactions\n",
    "        h = self.get_total_interaction()\n",
    "        # Compute the energy of external field\n",
    "        self.update_mag()\n",
    "        h += self.B * self.mag[-1]\n",
    "        self.ham.append(h)\n",
    "\n",
    "\n",
    "    def update_mag(self):\n",
    "        m = self.mag.append(np.sum(self.matrix))\n",
    "\n",
    "    def flip_one_point(self, i, j):\n",
    "        self.matrix[i,j] = self.matrix[i,j] * (-1)\n",
    "              \n",
    "    def heatmap(self):\n",
    "        fig, ax = plt.subplots()\n",
    "        im = ax.imshow(self.matrix, cmap = 'binary')\n",
    "        plt.show()\n",
    "\n",
    "    # deltaE -> difference btw final energy and initial energy of the single point (before and after the eventual swap)\n",
    "    def metropolis(self, n_updates):\n",
    "        for _ in range(n_updates):\n",
    "            i = np.random.randint(self.n1)\n",
    "            j = np.random.randint(self.n2)\n",
    "            E_i = self.get_onepoint_interaction(i, j)\n",
    "            deltaE = - 2 * self.matrix[i,j] * self.B - 2 * E_i\n",
    "            if deltaE < 0:\n",
    "                self.flip_one_point(i, j)\n",
    "            else:\n",
    "                # what is k_B???\n",
    "                if np.random.uniform() < np.exp(-deltaE/self.T):\n",
    "                    self.flip_one_point(i, j)\n",
    "              \n",
    "    # from where we get this method? I don't know if this is the mean field theory\n",
    "    \n",
    "    \"\"\"\n",
    "    def metropolis_mf(self, n_updates):\n",
    "        for _ in range(n_updates):\n",
    "            i = np.random.randint(self.n1)\n",
    "            j = np.random.randint(self.n2)\n",
    "            E_i = self.get_mf_interaction(i, j)\n",
    "            deltaE = - 2 * self.matrix[i,j] * self.B - 2 * E_i\n",
    "            if deltaE < 0:\n",
    "                self.flip_one_point(i, j)\n",
    "            else:\n",
    "                # what is k_B???\n",
    "                if np.random.uniform() < np.exp(-deltaE/self.T):\n",
    "                    self.flip_one_point(i, j)\n",
    "    \"\"\"                \n",
    "    \n",
    "    def metropolis_mf(self, n_updates):\n",
    "        for _ in range(n_updates):\n",
    "            i = np.random.randint(self.n1)\n",
    "            j = np.random.randint(self.n2)\n",
    "            E_i = self.get_mf_interaction(i, j)\n",
    "            deltaE = - 2 * self.matrix[i,j] * self.B - 2 * E_i\n",
    "            if deltaE < 0:\n",
    "                self.flip_one_point(i, j)\n",
    "            else:\n",
    "                # what is k_B???\n",
    "                if np.random.uniform() < np.exp(-deltaE/self.T):\n",
    "                    self.flip_one_point(i, j)"
   ]
  },
  {
   "cell_type": "code",
   "execution_count": 6,
   "metadata": {},
   "outputs": [
    {
     "data": {
      "image/png": "[encoded data removed]",
      "text/plain": [
       "<Figure size 432x360 with 1 Axes>"
      ]
     },
     "metadata": {
      "needs_background": "light"
     },
     "output_type": "display_data"
    }
   ],
   "source": [
    "from IPython import display\n",
    "\n",
    "T_c = 2/np.log(1+np.sqrt(2))\n",
    "T = 0.01\n",
    "\n",
    "# create initial random configuration\n",
    "ising = lattice2d(50, 50, T, 0, 1)\n",
    "\n",
    "# set up figure, plot first frame\n",
    "fig, ax = plt.subplots(1, 1, figsize=(6,5))\n",
    "# draw the initial configuration,\n",
    "# naming the plot \"im\".\n",
    "im = ax.imshow(ising.matrix)\n",
    "\n",
    "for t in range(10000):\n",
    "    # update the system\n",
    "    ising.metropolis(10)\n",
    "    # replot every 1000 MC updates\n",
    "    if t%100==0:\n",
    "        # update the data of the plot (not the whole figure!)\n",
    "        im.set_data(ising.matrix)\n",
    "        # rerender\n",
    "        display.display(plt.gcf())\n",
    "        display.clear_output(wait=True)"
   ]
  },
  {
   "cell_type": "code",
   "execution_count": 20,
   "metadata": {},
   "outputs": [
    {
     "ename": "KeyboardInterrupt",
     "evalue": "",
     "output_type": "error",
     "traceback": [
      "\u001b[0;31m---------------------------------------------------------------------------\u001b[0m",
      "\u001b[0;31mKeyboardInterrupt\u001b[0m                         Traceback (most recent call last)",
      "\u001b[0;32m<ipython-input-20-45e912a45c11>\u001b[0m in \u001b[0;36m<module>\u001b[0;34m\u001b[0m\n\u001b[1;32m     13\u001b[0m \u001b[0;32mfor\u001b[0m \u001b[0mt\u001b[0m \u001b[0;32min\u001b[0m \u001b[0mrange\u001b[0m\u001b[0;34m(\u001b[0m\u001b[0;36m100000\u001b[0m\u001b[0;34m)\u001b[0m\u001b[0;34m:\u001b[0m\u001b[0;34m\u001b[0m\u001b[0;34m\u001b[0m\u001b[0m\n\u001b[1;32m     14\u001b[0m     \u001b[0;31m# update the system\u001b[0m\u001b[0;34m\u001b[0m\u001b[0;34m\u001b[0m\u001b[0;34m\u001b[0m\u001b[0m\n\u001b[0;32m---> 15\u001b[0;31m     \u001b[0mising\u001b[0m\u001b[0;34m.\u001b[0m\u001b[0mmetropolis_mf\u001b[0m\u001b[0;34m(\u001b[0m\u001b[0;36m10\u001b[0m\u001b[0;34m)\u001b[0m\u001b[0;34m\u001b[0m\u001b[0;34m\u001b[0m\u001b[0m\n\u001b[0m\u001b[1;32m     16\u001b[0m     \u001b[0;31m# replot every 1000 MC updates\u001b[0m\u001b[0;34m\u001b[0m\u001b[0;34m\u001b[0m\u001b[0;34m\u001b[0m\u001b[0m\n\u001b[1;32m     17\u001b[0m     \u001b[0;32mif\u001b[0m \u001b[0mt\u001b[0m\u001b[0;34m%\u001b[0m\u001b[0;36m100\u001b[0m\u001b[0;34m==\u001b[0m\u001b[0;36m0\u001b[0m\u001b[0;34m:\u001b[0m\u001b[0;34m\u001b[0m\u001b[0;34m\u001b[0m\u001b[0m\n",
      "\u001b[0;32m<ipython-input-13-b1d63ffce566>\u001b[0m in \u001b[0;36mmetropolis_mf\u001b[0;34m(self, n_updates)\u001b[0m\n\u001b[1;32m     84\u001b[0m             \u001b[0mi\u001b[0m \u001b[0;34m=\u001b[0m \u001b[0mnp\u001b[0m\u001b[0;34m.\u001b[0m\u001b[0mrandom\u001b[0m\u001b[0;34m.\u001b[0m\u001b[0mrandint\u001b[0m\u001b[0;34m(\u001b[0m\u001b[0mself\u001b[0m\u001b[0;34m.\u001b[0m\u001b[0mn1\u001b[0m\u001b[0;34m)\u001b[0m\u001b[0;34m\u001b[0m\u001b[0;34m\u001b[0m\u001b[0m\n\u001b[1;32m     85\u001b[0m             \u001b[0mj\u001b[0m \u001b[0;34m=\u001b[0m \u001b[0mnp\u001b[0m\u001b[0;34m.\u001b[0m\u001b[0mrandom\u001b[0m\u001b[0;34m.\u001b[0m\u001b[0mrandint\u001b[0m\u001b[0;34m(\u001b[0m\u001b[0mself\u001b[0m\u001b[0;34m.\u001b[0m\u001b[0mn2\u001b[0m\u001b[0;34m)\u001b[0m\u001b[0;34m\u001b[0m\u001b[0;34m\u001b[0m\u001b[0m\n\u001b[0;32m---> 86\u001b[0;31m             \u001b[0mE_i\u001b[0m \u001b[0;34m=\u001b[0m \u001b[0mself\u001b[0m\u001b[0;34m.\u001b[0m\u001b[0mget_mf_interaction\u001b[0m\u001b[0;34m(\u001b[0m\u001b[0mi\u001b[0m\u001b[0;34m,\u001b[0m \u001b[0mj\u001b[0m\u001b[0;34m)\u001b[0m\u001b[0;34m\u001b[0m\u001b[0;34m\u001b[0m\u001b[0m\n\u001b[0m\u001b[1;32m     87\u001b[0m             \u001b[0mdeltaE\u001b[0m \u001b[0;34m=\u001b[0m \u001b[0;34m-\u001b[0m \u001b[0;36m2\u001b[0m \u001b[0;34m*\u001b[0m \u001b[0mself\u001b[0m\u001b[0;34m.\u001b[0m\u001b[0mmatrix\u001b[0m\u001b[0;34m[\u001b[0m\u001b[0mi\u001b[0m\u001b[0;34m,\u001b[0m\u001b[0mj\u001b[0m\u001b[0;34m]\u001b[0m \u001b[0;34m*\u001b[0m \u001b[0mself\u001b[0m\u001b[0;34m.\u001b[0m\u001b[0mB\u001b[0m \u001b[0;34m-\u001b[0m \u001b[0;36m2\u001b[0m \u001b[0;34m*\u001b[0m \u001b[0mE_i\u001b[0m\u001b[0;34m\u001b[0m\u001b[0;34m\u001b[0m\u001b[0m\n\u001b[1;32m     88\u001b[0m             \u001b[0;32mif\u001b[0m \u001b[0mdeltaE\u001b[0m \u001b[0;34m<\u001b[0m \u001b[0;36m0\u001b[0m\u001b[0;34m:\u001b[0m\u001b[0;34m\u001b[0m\u001b[0;34m\u001b[0m\u001b[0m\n",
      "\u001b[0;32m<ipython-input-13-b1d63ffce566>\u001b[0m in \u001b[0;36mget_mf_interaction\u001b[0;34m(self, i, j)\u001b[0m\n\u001b[1;32m     20\u001b[0m \u001b[0;34m\u001b[0m\u001b[0m\n\u001b[1;32m     21\u001b[0m     \u001b[0;32mdef\u001b[0m \u001b[0mget_mf_interaction\u001b[0m\u001b[0;34m(\u001b[0m\u001b[0mself\u001b[0m\u001b[0;34m,\u001b[0m\u001b[0mi\u001b[0m\u001b[0;34m,\u001b[0m\u001b[0mj\u001b[0m\u001b[0;34m)\u001b[0m\u001b[0;34m:\u001b[0m\u001b[0;34m\u001b[0m\u001b[0;34m\u001b[0m\u001b[0m\n\u001b[0;32m---> 22\u001b[0;31m         \u001b[0mself\u001b[0m\u001b[0;34m.\u001b[0m\u001b[0mupdate_mag\u001b[0m\u001b[0;34m(\u001b[0m\u001b[0;34m)\u001b[0m\u001b[0;34m\u001b[0m\u001b[0;34m\u001b[0m\u001b[0m\n\u001b[0m\u001b[1;32m     23\u001b[0m         \u001b[0mmf\u001b[0m \u001b[0;34m=\u001b[0m \u001b[0mself\u001b[0m\u001b[0;34m.\u001b[0m\u001b[0mmag\u001b[0m\u001b[0;34m[\u001b[0m\u001b[0;34m-\u001b[0m\u001b[0;36m1\u001b[0m\u001b[0;34m]\u001b[0m\u001b[0;34m\u001b[0m\u001b[0;34m\u001b[0m\u001b[0m\n\u001b[1;32m     24\u001b[0m         \u001b[0minteraction\u001b[0m \u001b[0;34m=\u001b[0m \u001b[0;34m-\u001b[0m \u001b[0mself\u001b[0m\u001b[0;34m.\u001b[0m\u001b[0mJ\u001b[0m \u001b[0;34m*\u001b[0m \u001b[0mself\u001b[0m\u001b[0;34m.\u001b[0m\u001b[0mmatrix\u001b[0m\u001b[0;34m[\u001b[0m\u001b[0mi\u001b[0m\u001b[0;34m,\u001b[0m\u001b[0mj\u001b[0m\u001b[0;34m]\u001b[0m \u001b[0;34m*\u001b[0m \u001b[0mmf\u001b[0m \u001b[0;34m*\u001b[0m \u001b[0;36m4\u001b[0m\u001b[0;34m/\u001b[0m\u001b[0;34m(\u001b[0m\u001b[0mself\u001b[0m\u001b[0;34m.\u001b[0m\u001b[0mn1\u001b[0m\u001b[0;34m*\u001b[0m\u001b[0mself\u001b[0m\u001b[0;34m.\u001b[0m\u001b[0mn2\u001b[0m\u001b[0;34m)\u001b[0m\u001b[0;34m\u001b[0m\u001b[0;34m\u001b[0m\u001b[0m\n",
      "\u001b[0;32m<ipython-input-13-b1d63ffce566>\u001b[0m in \u001b[0;36mupdate_mag\u001b[0;34m(self)\u001b[0m\n\u001b[1;32m     56\u001b[0m \u001b[0;34m\u001b[0m\u001b[0m\n\u001b[1;32m     57\u001b[0m     \u001b[0;32mdef\u001b[0m \u001b[0mupdate_mag\u001b[0m\u001b[0;34m(\u001b[0m\u001b[0mself\u001b[0m\u001b[0;34m)\u001b[0m\u001b[0;34m:\u001b[0m\u001b[0;34m\u001b[0m\u001b[0;34m\u001b[0m\u001b[0m\n\u001b[0;32m---> 58\u001b[0;31m         \u001b[0mm\u001b[0m \u001b[0;34m=\u001b[0m \u001b[0mself\u001b[0m\u001b[0;34m.\u001b[0m\u001b[0mmag\u001b[0m\u001b[0;34m.\u001b[0m\u001b[0mappend\u001b[0m\u001b[0;34m(\u001b[0m\u001b[0mnp\u001b[0m\u001b[0;34m.\u001b[0m\u001b[0msum\u001b[0m\u001b[0;34m(\u001b[0m\u001b[0mself\u001b[0m\u001b[0;34m.\u001b[0m\u001b[0mmatrix\u001b[0m\u001b[0;34m)\u001b[0m\u001b[0;34m)\u001b[0m\u001b[0;34m\u001b[0m\u001b[0;34m\u001b[0m\u001b[0m\n\u001b[0m\u001b[1;32m     59\u001b[0m \u001b[0;34m\u001b[0m\u001b[0m\n\u001b[1;32m     60\u001b[0m     \u001b[0;32mdef\u001b[0m \u001b[0mflip_one_point\u001b[0m\u001b[0;34m(\u001b[0m\u001b[0mself\u001b[0m\u001b[0;34m,\u001b[0m \u001b[0mi\u001b[0m\u001b[0;34m,\u001b[0m \u001b[0mj\u001b[0m\u001b[0;34m)\u001b[0m\u001b[0;34m:\u001b[0m\u001b[0;34m\u001b[0m\u001b[0;34m\u001b[0m\u001b[0m\n",
      "\u001b[0;32m<__array_function__ internals>\u001b[0m in \u001b[0;36msum\u001b[0;34m(*args, **kwargs)\u001b[0m\n",
      "\u001b[0;32m~/anaconda3/lib/python3.7/site-packages/numpy/core/fromnumeric.py\u001b[0m in \u001b[0;36msum\u001b[0;34m(a, axis, dtype, out, keepdims, initial, where)\u001b[0m\n\u001b[1;32m   2180\u001b[0m \u001b[0;34m\u001b[0m\u001b[0m\n\u001b[1;32m   2181\u001b[0m     return _wrapreduction(a, np.add, 'sum', axis, dtype, out, keepdims=keepdims,\n\u001b[0;32m-> 2182\u001b[0;31m                           initial=initial, where=where)\n\u001b[0m\u001b[1;32m   2183\u001b[0m \u001b[0;34m\u001b[0m\u001b[0m\n\u001b[1;32m   2184\u001b[0m \u001b[0;34m\u001b[0m\u001b[0m\n",
      "\u001b[0;32m~/anaconda3/lib/python3.7/site-packages/numpy/core/fromnumeric.py\u001b[0m in \u001b[0;36m_wrapreduction\u001b[0;34m(obj, ufunc, method, axis, dtype, out, **kwargs)\u001b[0m\n\u001b[1;32m     88\u001b[0m                 \u001b[0;32mreturn\u001b[0m \u001b[0mreduction\u001b[0m\u001b[0;34m(\u001b[0m\u001b[0maxis\u001b[0m\u001b[0;34m=\u001b[0m\u001b[0maxis\u001b[0m\u001b[0;34m,\u001b[0m \u001b[0mout\u001b[0m\u001b[0;34m=\u001b[0m\u001b[0mout\u001b[0m\u001b[0;34m,\u001b[0m \u001b[0;34m**\u001b[0m\u001b[0mpasskwargs\u001b[0m\u001b[0;34m)\u001b[0m\u001b[0;34m\u001b[0m\u001b[0;34m\u001b[0m\u001b[0m\n\u001b[1;32m     89\u001b[0m \u001b[0;34m\u001b[0m\u001b[0m\n\u001b[0;32m---> 90\u001b[0;31m     \u001b[0;32mreturn\u001b[0m \u001b[0mufunc\u001b[0m\u001b[0;34m.\u001b[0m\u001b[0mreduce\u001b[0m\u001b[0;34m(\u001b[0m\u001b[0mobj\u001b[0m\u001b[0;34m,\u001b[0m \u001b[0maxis\u001b[0m\u001b[0;34m,\u001b[0m \u001b[0mdtype\u001b[0m\u001b[0;34m,\u001b[0m \u001b[0mout\u001b[0m\u001b[0;34m,\u001b[0m \u001b[0;34m**\u001b[0m\u001b[0mpasskwargs\u001b[0m\u001b[0;34m)\u001b[0m\u001b[0;34m\u001b[0m\u001b[0;34m\u001b[0m\u001b[0m\n\u001b[0m\u001b[1;32m     91\u001b[0m \u001b[0;34m\u001b[0m\u001b[0m\n\u001b[1;32m     92\u001b[0m \u001b[0;34m\u001b[0m\u001b[0m\n",
      "\u001b[0;31mKeyboardInterrupt\u001b[0m: "
     ]
    },
    {
     "data": {
      "image/png": "[encoded data removed]",
      "text/plain": [
       "<Figure size 432x360 with 1 Axes>"
      ]
     },
     "metadata": {
      "needs_background": "light"
     },
     "output_type": "display_data"
    }
   ],
   "source": [
    "T_c = 2/np.log(1+np.sqrt(2))\n",
    "T = 3.8\n",
    "\n",
    "# create initial random configuration\n",
    "ising = lattice2d(100, 100, T, 0, 1)\n",
    "\n",
    "# set up figure, plot first frame\n",
    "fig, ax = plt.subplots(1, 1, figsize=(6,5))\n",
    "# draw the initial configuration,\n",
    "# naming the plot \"im\".\n",
    "im = ax.imshow(ising.matrix)\n",
    "\n",
    "for t in range(100000):\n",
    "    # update the system\n",
    "    ising.metropolis_mf(10)\n",
    "    # replot every 1000 MC updates\n",
    "    if t%100==0:\n",
    "        # update the data of the plot (not the whole figure!)\n",
    "        im.set_data(ising.matrix)\n",
    "        # rerender\n",
    "        display.display(plt.gcf())\n",
    "        display.clear_output(wait=True)"
   ]
  },
  {
   "cell_type": "code",
   "execution_count": 21,
   "metadata": {},
   "outputs": [],
   "source": [
    "# We create a function to compute couple of value for (magnetization, temperature)\n",
    "# in order to check phase transition and the correctness of the value of T_c\n",
    "# computed with the metropolis algorithm\n",
    "def compute_temp_mag(n1,n2,B,J,t1,t2,n_temperatures,n_repetitions):\n",
    "    temperatures = np.linspace(t1,t2,n_temperatures)\n",
    "    magnetizations = np.zeros(n_temperatures)\n",
    "    for i,t in enumerate (temperatures):\n",
    "        ising = lattice2d(n1, n2, t, B, J)\n",
    "        ising.metropolis(n_repetitions)\n",
    "        ising.update_mag()\n",
    "        magnetizations[i] = ising.mag[-1]/n1/n2\n",
    "        print ( '[',t,',',magnetizations[i],']')\n",
    "\n",
    "    return(temperatures, magnetizations)"
   ]
  },
  {
   "cell_type": "code",
   "execution_count": 26,
   "metadata": {},
   "outputs": [
    {
     "name": "stdout",
     "output_type": "stream",
     "text": [
      "[ 0.1 , 0.28 ]\n",
      "[ 0.24210526315789474 , -0.12 ]\n",
      "[ 0.38421052631578945 , 1.0 ]\n",
      "[ 0.5263157894736842 , -1.0 ]\n",
      "[ 0.6684210526315789 , 1.0 ]\n",
      "[ 0.8105263157894737 , -1.0 ]\n",
      "[ 0.9526315789473684 , -1.0 ]\n",
      "[ 1.0947368421052632 , 0.9968 ]\n",
      "[ 1.236842105263158 , -0.9968 ]\n",
      "[ 1.3789473684210527 , 0.6607999999999999 ]\n",
      "[ 1.5210526315789474 , -0.9776 ]\n",
      "[ 1.6631578947368422 , -0.968 ]\n",
      "[ 1.805263157894737 , 0.9551999999999999 ]\n",
      "[ 1.9473684210526316 , -0.9264 ]\n",
      "[ 2.0894736842105264 , 0.9007999999999999 ]\n",
      "[ 2.2315789473684213 , -0.7631999999999999 ]\n",
      "[ 2.373684210526316 , -0.488 ]\n",
      "[ 2.5157894736842104 , 0.41119999999999995 ]\n",
      "[ 2.6578947368421053 , 0.1328 ]\n",
      "[ 2.8 , -0.1264 ]\n"
     ]
    }
   ],
   "source": [
    "temp, mag = compute_temp_mag(25,25,0,1,0.1,2.8,20,500000)\n"
   ]
  },
  {
   "cell_type": "code",
   "execution_count": 27,
   "metadata": {},
   "outputs": [
    {
     "data": {
      "text/plain": [
       "<matplotlib.collections.LineCollection at 0x7f472afe0f90>"
      ]
     },
     "execution_count": 27,
     "metadata": {},
     "output_type": "execute_result"
    },
    {
     "data": {
      "image/png": "[encoded data removed]",
      "text/plain": [
       "<Figure size 432x288 with 1 Axes>"
      ]
     },
     "metadata": {
      "needs_background": "light"
     },
     "output_type": "display_data"
    }
   ],
   "source": [
    "plt.plot(temp, mag,'.', markersize=10)\n",
    "plt.vlines(T_c,-1,+1)"
   ]
  },
  {
   "cell_type": "code",
   "execution_count": 28,
   "metadata": {},
   "outputs": [
    {
     "name": "stdout",
     "output_type": "stream",
     "text": [
      "[ 2.2 , -0.8240000000000001 ]\n",
      "[ 2.3000000000000003 , 0.18719999999999998 ]\n",
      "[ 2.4000000000000004 , 0.5871999999999999 ]\n",
      "[ 2.5 , -0.1168 ]\n",
      "[ 2.6 , -0.2736 ]\n"
     ]
    },
    {
     "data": {
      "text/plain": [
       "<matplotlib.collections.LineCollection at 0x7f46ffc2c690>"
      ]
     },
     "execution_count": 28,
     "metadata": {},
     "output_type": "execute_result"
    },
    {
     "data": {
      "image/png": "[encoded data removed]",
      "text/plain": [
       "<Figure size 432x288 with 1 Axes>"
      ]
     },
     "metadata": {
      "needs_background": "light"
     },
     "output_type": "display_data"
    }
   ],
   "source": [
    "temp2, mag2 = compute_temp_mag(25,25,0,1,2.2,2.6,5,500000)\n",
    "temp = np.append(temp,temp2)\n",
    "mag = np.append(mag,mag2)\n",
    "plt.plot(temp, mag,'.', markersize=10)\n",
    "plt.vlines(T_c,-1,+1)"
   ]
  },
  {
   "cell_type": "code",
   "execution_count": 29,
   "metadata": {},
   "outputs": [],
   "source": [
    "# We create a function to compute couple of value for (magnetization, temperature)\n",
    "# in order to check phase transition and the correctness of the value of T_c\n",
    "# computed following the mean field approach\n",
    "def compute_temp_mag_mf(n1,n2,B,J,t1,t2,n_temperatures,n_repetitions):\n",
    "    temperatures = np.linspace(t1,t2,n_temperatures)\n",
    "    magnetizations = np.zeros(n_temperatures)\n",
    "    for i,t in enumerate (temperatures):\n",
    "        ising = lattice2d(n1, n2, t, B, J)\n",
    "        ising.metropolis_mf(n_repetitions)\n",
    "        ising.update_mag()\n",
    "        magnetizations[i] = ising.mag[-1]/n1/n2\n",
    "        print ( '[',t,',',magnetizations[i],']')\n",
    "\n",
    "    return(temperatures, magnetizations)"
   ]
  },
  {
   "cell_type": "code",
   "execution_count": 35,
   "metadata": {},
   "outputs": [
    {
     "name": "stdout",
     "output_type": "stream",
     "text": [
      "[ 3.5 , 0.536 ]\n",
      "[ 3.611111111111111 , 0.6384000000000001 ]\n",
      "[ 3.7222222222222223 , 0.5104 ]\n",
      "[ 3.8333333333333335 , 0.1104 ]\n",
      "[ 3.9444444444444446 , -0.2896 ]\n",
      "[ 4.055555555555555 , 0.1104 ]\n",
      "[ 4.166666666666667 , -0.04 ]\n",
      "[ 4.277777777777778 , -0.1264 ]\n",
      "[ 4.388888888888889 , 0.024 ]\n",
      "[ 4.5 , 0.0528 ]\n"
     ]
    }
   ],
   "source": [
    "temp_mf, mag_mf = compute_temp_mag_mf(25,25,0,1,3.5,4.5,10,1000000)\n"
   ]
  },
  {
   "cell_type": "code",
   "execution_count": 36,
   "metadata": {},
   "outputs": [
    {
     "data": {
      "text/plain": [
       "[<matplotlib.lines.Line2D at 0x7f46fe56ced0>]"
      ]
     },
     "execution_count": 36,
     "metadata": {},
     "output_type": "execute_result"
    },
    {
     "data": {
      "image/png": "[encoded data removed]",
      "text/plain": [
       "<Figure size 432x288 with 1 Axes>"
      ]
     },
     "metadata": {
      "needs_background": "light"
     },
     "output_type": "display_data"
    }
   ],
   "source": [
    "plt.plot(temp_mf,mag_mf,'.')"
   ]
  },
  {
   "cell_type": "code",
   "execution_count": null,
   "metadata": {},
   "outputs": [],
   "source": []
  }
 ],
 "metadata": {
  "kernelspec": {
   "display_name": "Python 3",
   "language": "python",
   "name": "python3"
  },
  "language_info": {
   "codemirror_mode": {
    "name": "ipython",
    "version": 3
   },
   "file_extension": ".py",
   "mimetype": "text/x-python",
   "name": "python",
   "nbconvert_exporter": "python",
   "pygments_lexer": "ipython3",
   "version": "3.7.4"
  }
 },
 "nbformat": 4,
 "nbformat_minor": 4
}
