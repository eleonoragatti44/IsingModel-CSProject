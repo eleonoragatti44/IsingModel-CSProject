{
 "cells": [
  {
   "cell_type": "code",
   "execution_count": 1,
   "metadata": {},
   "outputs": [],
   "source": [
    "import numpy as np\n",
    "import matplotlib.pyplot as plt"
   ]
  },
  {
   "cell_type": "code",
   "execution_count": 9,
   "metadata": {},
   "outputs": [],
   "source": [
    "import numpy as np\n",
    "import matplotlib.pyplot as plt\n",
    "class lattice2d():\n",
    "  \n",
    "    def __init__(self,n1,n2,T,B=1,J=1):\n",
    "        self.n1 = n1\n",
    "        self.n2 = n2\n",
    "        self.matrix = np.random.choice([-1, 1], size=(self.n1, self.n2))\n",
    "        self.ham = [] \n",
    "        self.mag = []\n",
    "        self.B = B\n",
    "        self.J = J\n",
    "        self.T = T\n",
    "\n",
    "    # Compute the interaction between one spin and first neighbors\n",
    "    def get_onepoint_interaction(self,i,j):\n",
    "        interaction = - self.J * self.matrix[i,j] * (self.matrix[(i+1)%self.n1,j]+self.matrix[i-1,j]+self.matrix[i,(j+1)%self.n2]+self.matrix[i,j-1])\n",
    "        return(interaction)\n",
    "\n",
    "    def get_total_interaction(self):\n",
    "        # list of pairs of adjacent sites as four-element tuples:\n",
    "        # (i1, j1, i2, j2) represents two adjacent sites located\n",
    "        # at (i1, j1) and (i2, j2)\n",
    "        horizontal_edges = [\n",
    "            (i, j-1, i, j)\n",
    "            for i in range(self.n1) for j in range(self.n2)\n",
    "        ]\n",
    "        vertical_edges = [\n",
    "            (i-1, j, i, j)\n",
    "            for i in range(self.n1) for j in range(self.n2)\n",
    "        ]\n",
    "        # summing lists in python concatenates them\n",
    "        # [1, 2, 3] + [4, 5] = [1, 2, 3, 4, 5]\n",
    "        edges = horizontal_edges + vertical_edges\n",
    "        E = 0\n",
    "        for i1, j1, i2, j2 in edges:\n",
    "            E -= self.matrix[i1,j1]*self.matrix[i2,j2]\n",
    "        return E                                               \n",
    "\n",
    "\n",
    "    def update_ham(self):\n",
    "        # Compute the energy of interactions\n",
    "        h = self.get_total_interaction()\n",
    "        # Compute the energy of external field\n",
    "        self.update_mag()\n",
    "        h += self.B * self.mag[-1]\n",
    "        self.ham.append(h)\n",
    "\n",
    "\n",
    "    def update_mag(self):\n",
    "        m = self.mag.append(np.sum(self.matrix))\n",
    "\n",
    "    def flip_one_point(self, i, j):\n",
    "        self.matrix[i,j] = self.matrix[i,j] * (-1)\n",
    "              \n",
    "    def heatmap(self):\n",
    "        fig, ax = plt.subplots()\n",
    "        im = ax.imshow(self.matrix, cmap = 'binary')\n",
    "        plt.show()\n",
    "\n",
    "    # deltaE -> difference btw final energy and initial energy of the single point (before and after the eventual swap)\n",
    "    def metropolis(self, n_updates):\n",
    "        for _ in range(n_updates):\n",
    "            i = np.random.randint(self.n1)\n",
    "            j = np.random.randint(self.n2)\n",
    "            E_i = self.get_onepoint_interaction(i, j)\n",
    "            deltaE = - 2 * self.matrix[i,j] * self.B - 2 * E_i\n",
    "            if deltaE < 0:\n",
    "                self.flip_one_point(i, j)\n",
    "            else:\n",
    "                # what is k_B???\n",
    "                if np.random.uniform() < np.exp(-deltaE/self.T):\n",
    "                    self.flip_one_point(i, j)"
   ]
  },
  {
   "cell_type": "code",
   "execution_count": 10,
   "metadata": {},
   "outputs": [
    {
     "name": "stdout",
     "output_type": "stream",
     "text": [
      "[[-1 -1 -1  1  1]\n",
      " [ 1 -1  1  1 -1]\n",
      " [ 1 -1 -1  1  1]\n",
      " [ 1  1 -1  1  1]\n",
      " [-1 -1 -1  1  1]]\n",
      "[-9, -9, -9, -9, -15, -15, -15, -15, -15, -17, -17, -17, -17, -23, -23, -23, -21, -21, -21, -27, -29, -29, -29, -29, -29, -29, -29, -29, -27, -27]\n"
     ]
    }
   ],
   "source": [
    "ising = lattice2d(5, 5, 1, 1, 1)\n",
    "#ising.heatmap()\n",
    "\n",
    "print(ising.matrix)\n",
    "\n",
    "for _ in range(30):\n",
    "    ising.metropolis(1)\n",
    "    ising.update_ham()\n",
    "\n",
    "print(ising.ham)"
   ]
  },
  {
   "cell_type": "code",
   "execution_count": 11,
   "metadata": {},
   "outputs": [
    {
     "data": {
      "image/png": "[encoded data removed]",
      "text/plain": [
       "<Figure size 432x360 with 1 Axes>"
      ]
     },
     "metadata": {
      "needs_background": "light"
     },
     "output_type": "display_data"
    }
   ],
   "source": [
    "from IPython import display\n",
    "\n",
    "T_c = 2/np.log(1+np.sqrt(2))\n",
    "T = 4\n",
    "\n",
    "# create initial random configuration\n",
    "ising = lattice2d(100, 100, T, 100, 1)\n",
    "\n",
    "# set up figure, plot first frame\n",
    "fig, ax = plt.subplots(1, 1, figsize=(6,5))\n",
    "# draw the initial configuration,\n",
    "# naming the plot \"im\".\n",
    "im = ax.imshow(ising.matrix)\n",
    "\n",
    "for t in range(10000):\n",
    "    # update the system\n",
    "    ising.metropolis(10)\n",
    "    # replot every 1000 MC updates\n",
    "    if t%100==0:\n",
    "        # update the data of the plot (not the whole figure!)\n",
    "        im.set_data(ising.matrix)\n",
    "        # rerender\n",
    "        display.display(plt.gcf())\n",
    "        display.clear_output(wait=True)"
   ]
  },
  {
   "cell_type": "code",
   "execution_count": null,
   "metadata": {},
   "outputs": [],
   "source": []
  }
 ],
 "metadata": {
  "kernelspec": {
   "display_name": "Python 3",
   "language": "python",
   "name": "python3"
  },
  "language_info": {
   "codemirror_mode": {
    "name": "ipython",
    "version": 3
   },
   "file_extension": ".py",
   "mimetype": "text/x-python",
   "name": "python",
   "nbconvert_exporter": "python",
   "pygments_lexer": "ipython3",
   "version": "3.7.4"
  }
 },
 "nbformat": 4,
 "nbformat_minor": 4
}
